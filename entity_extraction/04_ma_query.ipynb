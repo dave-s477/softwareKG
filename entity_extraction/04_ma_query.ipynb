{
 "cells": [
  {
   "cell_type": "markdown",
   "metadata": {},
   "source": [
    "# Querying Microsoft Academic Knowledge Graph\n",
    "\n",
    "We want to create links with Microsoft Academic Knowledge Graph on a paper basis. \n",
    "Therefore, we need to query the papers and then automatically link them with the articles we extracted. \n",
    "In the query we look specifically for the artile names we have used in our reasoning set. \n",
    "\n",
    "The final integration of the information in our graph is only done after entity linking when we add all additional knowledge.  "
   ]
  },
  {
   "cell_type": "code",
   "execution_count": null,
   "metadata": {},
   "outputs": [],
   "source": [
    "query =\"\"\"PREFIX rdf: <http://www.w3.org/1999/02/22-rdf-syntax-ns#>\n",
    "PREFIX magp: <http://ma-graph.org/property/>\n",
    "PREFIX dcterms: <http://purl.org/dc/terms/>\n",
    "PREFIX foaf: <http://xmlns.com/foaf/0.1/>\n",
    "PREFIX fabio: <http://purl.org/spar/fabio/>\n",
    "PREFIX org: <http://www.w3.org/ns/org#>\n",
    "PREFIX xsd: <http://www.w3.org/2001/XMLSchema#>\n",
    "PREFIX datacite: <http://purl.org/spar/datacite/>\n",
    " \n",
    "\n",
    "select distinct * where {\n",
    " ?p datacite:doi ?doi.zz\n",
    " FILTER (?doi = \\\"10.1007/978-3-322-81546-0_5\\\"^^xsd:string || ?doi = \\\"10.1123/ijsnem.11.s1.s128\\\"^^xsd:string)\n",
    "}LIMIT 100\"\"\"\n",
    "query"
   ]
  },
  {
   "cell_type": "code",
   "execution_count": null,
   "metadata": {},
   "outputs": [],
   "source": [
    "query_template =\"\"\"PREFIX rdf: <http://www.w3.org/1999/02/22-rdf-syntax-ns#>\n",
    "PREFIX magp: <http://ma-graph.org/property/>\n",
    "PREFIX dcterms: <http://purl.org/dc/terms/>\n",
    "PREFIX foaf: <http://xmlns.com/foaf/0.1/>\n",
    "PREFIX fabio: <http://purl.org/spar/fabio/>\n",
    "PREFIX org: <http://www.w3.org/ns/org#>\n",
    "PREFIX xsd: <http://www.w3.org/2001/XMLSchema#>\n",
    "PREFIX datacite: <http://purl.org/spar/datacite/>\n",
    " \n",
    "\n",
    "select distinct * where {\n",
    " ?paper datacite:doi ?doi.\n",
    " FILTER (\"\"\"\n",
    " \n",
    "query_template_end = \"\"\")\n",
    "}LIMIT 100\"\"\""
   ]
  },
  {
   "cell_type": "code",
   "execution_count": null,
   "metadata": {},
   "outputs": [],
   "source": [
    "with open(\"paper_dois.txt\", 'r') as paper_f:\n",
    "    content = paper_f.readlines()\n",
    "# you may also want to remove whitespace characters like `\\n` at the end of each line\n",
    "doi_list = [x.strip().replace(\".txt\",\"\").replace(\"_\",\"/\") for x in content] \n",
    "doi_list[1:10]"
   ]
  },
  {
   "cell_type": "code",
   "execution_count": null,
   "metadata": {},
   "outputs": [],
   "source": [
    "import math\n",
    "from SPARQLWrapper import SPARQLWrapper, JSON\n",
    "import pandas as pd"
   ]
  },
  {
   "cell_type": "code",
   "execution_count": null,
   "metadata": {},
   "outputs": [],
   "source": [
    "sparql = SPARQLWrapper(\"http://ma-graph.org/sparql\")\n",
    "\n",
    "def run_query(doi_list, s,e):\n",
    "    dois =[ \"?doi = \\\"\" + doi + \"\\\"^^xsd:string\" for doi in doi_list[s:e]]\n",
    "    query = query_template + ' || '.join(dois) + query_template_end\n",
    "    sparql.setQuery(query)\n",
    "    sparql.setReturnFormat(JSON)\n",
    "    results = sparql.query().convert()\n",
    "    result_list = [{'paper':r['paper']['value'], 'doi':r['doi']['value']} for r in results['results']['bindings']]\n",
    "    df = pd.DataFrame(result_list)\n",
    "    return df"
   ]
  },
  {
   "cell_type": "code",
   "execution_count": null,
   "metadata": {},
   "outputs": [],
   "source": [
    "dfs = []\n",
    "for i in range(0, len(doi_list), 100):\n",
    "    s = i\n",
    "    e = min(len(doi_list), i+100)\n",
    "    print(\"Running\" + str(s) + \" to \" + str(e))\n",
    "    dfs.append(run_query(doi_list,s,e))\n"
   ]
  },
  {
   "cell_type": "code",
   "execution_count": null,
   "metadata": {},
   "outputs": [],
   "source": [
    "sum([len(x) for x in dfs])"
   ]
  },
  {
   "cell_type": "code",
   "execution_count": null,
   "metadata": {},
   "outputs": [],
   "source": [
    "df = pd.concat(dfs)"
   ]
  },
  {
   "cell_type": "code",
   "execution_count": null,
   "metadata": {},
   "outputs": [],
   "source": [
    "df.to_csv('ma_papers.csv.gz', compression='gzip')"
   ]
  },
  {
   "cell_type": "code",
   "execution_count": null,
   "metadata": {},
   "outputs": [],
   "source": [
    "df.drop_duplicates().shape"
   ]
  }
 ],
 "metadata": {
  "file_extension": ".py",
  "kernelspec": {
   "display_name": "Python 3",
   "language": "python",
   "name": "python3"
  },
  "language_info": {
   "codemirror_mode": {
    "name": "ipython",
    "version": 3
   },
   "file_extension": ".py",
   "mimetype": "text/x-python",
   "name": "python",
   "nbconvert_exporter": "python",
   "pygments_lexer": "ipython3",
   "version": "3.7.3"
  },
  "mimetype": "text/x-python",
  "name": "python",
  "npconvert_exporter": "python",
  "pygments_lexer": "ipython3",
  "version": 3
 },
 "nbformat": 4,
 "nbformat_minor": 2
}
