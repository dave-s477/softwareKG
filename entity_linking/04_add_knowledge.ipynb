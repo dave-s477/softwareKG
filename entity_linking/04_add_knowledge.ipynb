{
 "cells": [
  {
   "cell_type": "markdown",
   "metadata": {},
   "source": [
    "# Add Knowledge to the Graph\n",
    "\n",
    "Here the knowledge graph is enhanced by including links to other knowledge bases and manually gathered information. "
   ]
  },
  {
   "cell_type": "code",
   "execution_count": null,
   "metadata": {},
   "outputs": [],
   "source": [
    "import pandas as pd\n",
    "df = pd.read_csv(\"ma_papers.csv.gz\")"
   ]
  },
  {
   "cell_type": "code",
   "execution_count": null,
   "metadata": {},
   "outputs": [],
   "source": [
    "import json\n",
    "import gzip\n",
    "\n",
    "with gzip.GzipFile('../data/software_kg_production_model.json.gz', 'r') as f:\n",
    "    kg = json.load(f)"
   ]
  },
  {
   "cell_type": "markdown",
   "metadata": {},
   "source": [
    "Add link to MA Graph:"
   ]
  },
  {
   "cell_type": "code",
   "execution_count": null,
   "metadata": {},
   "outputs": [],
   "source": [
    "for paper in kg['@graph']:\n",
    "    doi = paper[\"http://schema.org/identifier\"]\n",
    "    rows = df.loc[df['doi'] == doi]\n",
    "    paper[\"http://schema.org/sameAs\"] = []\n",
    "    if len(rows) > 0:\n",
    "        for idx, row in enumerate(rows['paper']):\n",
    "            paper[\"http://schema.org/sameAs\"].append({\n",
    "                \"@id\" : str(row),\n",
    "                \"@type\" : \"@id\"})          "
   ]
  },
  {
   "cell_type": "markdown",
   "metadata": {},
   "source": [
    "Get the list with the manual added information:"
   ]
  },
  {
   "cell_type": "code",
   "execution_count": null,
   "metadata": {},
   "outputs": [],
   "source": [
    "linked_entities = pd.read_csv(\"../data/software_reasoning_final_production_model.csv\")\n",
    "\n",
    "linked_entities[\"id\"] = [\"http://data.gesis.org/softwarekg/software/{}\".format(i) for i in range(len(linked_entities))]"
   ]
  },
  {
   "cell_type": "markdown",
   "metadata": {},
   "source": [
    "Now all additional information is added to each paper. \n",
    "Softwares found per paper are replaced through 'mentions' while for each distinct software name a new node in the graph is generated that is connected to the mention via its ID. "
   ]
  },
  {
   "cell_type": "code",
   "execution_count": null,
   "metadata": {
    "scrolled": true
   },
   "outputs": [],
   "source": [
    "for i_paper, paper in enumerate(kg['@graph']):\n",
    "    if not paper['@type'] == \"http://schema.org/ScholarlyArticle\":\n",
    "        # no paper, maybe software\n",
    "        continue \n",
    "    # create empty list of mentions\n",
    "    paper['http://schema.org/mentions'] = []\n",
    "    doi = paper['http://schema.org/identifier']\n",
    "    \n",
    "    # TODO\n",
    "    publisher_name = paper['http://schema.org/publisher']\n",
    "    paper[\"http://schema.org/publisher\"] = [{\n",
    "          \"@id\": \"http://data.gesis.org/softwarekg/\"+doi+\"/publisher/0\",\n",
    "          \"@type\": \"http://schema.org/Organization\",\n",
    "          \"http://schema.org/name\": publisher_name\n",
    "        }]\n",
    "    for i_author, author in enumerate(paper['http://schema.org/author']):\n",
    "        affiliation_list = []\n",
    "        for i_affiliation, affiliation in enumerate(author['http://schema.org/affiliation']):\n",
    "            affiliation_list.append({\n",
    "                \"@id\": \"http://data.gesis.org/softwarekg/{}/author/{}/affiliation/{}\".format(doi, i_author, i_affiliation),\n",
    "                \"@type\": \"http://schema.org/Organization\",\n",
    "                \"http://schema.org/name\": affiliation\n",
    "            })\n",
    "        author['http://schema.org/affiliation'] = affiliation_list\n",
    "        \n",
    "    if 'http://data.gesis.org/softwarekg/headings' in paper:\n",
    "        paper.pop('http://data.gesis.org/softwarekg/headings')\n",
    "\n",
    "    for i_software, software in enumerate(paper['http://data.gesis.org/softwarekg/software']):\n",
    "        # for each software in paper\n",
    "        software_name = software['http://schema.org/name']\n",
    "        #print(software_name)\n",
    "        rows = linked_entities.loc[linked_entities['name']==software_name]\n",
    "        #print(rows)\n",
    "        if (len(rows) == 0):\n",
    "            print(\"Software '{}' not found in linking list\".format(software_name))\n",
    "            continue\n",
    "        if len(rows) > 1: \n",
    "             print(\"More than one software found for '{}'\".format(software_name))\n",
    "        linked_name = rows[\"linked_name\"].iloc[0]\n",
    "        linked_softwares = linked_entities.loc[linked_entities['linked_name']==linked_name]\n",
    "        if len(linked_softwares) == 0:\n",
    "            print(\"did not find linked name for {}\".format(linked_name))\n",
    "            print(rows)\n",
    "            \n",
    "        l_name = linked_softwares[\"id\"].iloc[0]\n",
    "        #print(l_name)\n",
    "        software['http://schema.org/name'] = l_name\n",
    "        #break\n",
    "        paper['http://schema.org/mentions'].append({\n",
    "\n",
    "            \"@id\": \"http://data.gesis.org/softwarekg/{}/mention/{}\".format(doi,i_software),\n",
    "            \"@type\": \"http://persistence.uni-leipzig.org/nlp2rdf/ontologies/nif-core#String\",\n",
    "            \"http://persistence.uni-leipzig.org/nlp2rdf/ontologies/nif-core#isString\": software_name,\n",
    "            \"http://data.gesis.org/softwarekg/software\" : [\n",
    "                {\n",
    "                    \"@id\" : l_name,\n",
    "                    \"@type\" : \"@id\"}\n",
    "            ],\n",
    "        })\n",
    "    if 'http://data.gesis.org/softwarekg/software' in paper:\n",
    "        paper.pop('http://data.gesis.org/softwarekg/software')\n",
    "        "
   ]
  },
  {
   "cell_type": "markdown",
   "metadata": {},
   "source": [
    "And we get the additional information for each of the distinct software entities"
   ]
  },
  {
   "cell_type": "code",
   "execution_count": null,
   "metadata": {},
   "outputs": [],
   "source": [
    "import numpy as np\n",
    "\n",
    "def add_if_exists(entry, name, value):\n",
    "    if pd.isnull(value):\n",
    "        return False\n",
    "    entry[name] = value\n",
    "    return True\n",
    "\n",
    "def add_sameAs_if_exists(entry, value):\n",
    "    if pd.isnull(value):\n",
    "        return False\n",
    "        \n",
    "    same_as = {\n",
    "        \"@id\" : value,\n",
    "        \"@type\" : \"@id\",\n",
    "    }\n",
    "    entry.append(same_as)\n",
    "    return True\n",
    "\n",
    "software_list = []\n",
    "unique_names = []\n",
    "for idx, row in linked_entities.iterrows():\n",
    "    if row['linked_name'] in unique_names:\n",
    "        continue\n",
    "    unique_names.append(row[\"linked_name\"])\n",
    "    entry = {\n",
    "        \"@id\" : row[\"id\"],\n",
    "        \"@type\" : \"http://schema.org/SoftwareApplication\",\n",
    "        \"http://schema.org/name\" : row[\"linked_name\"],\n",
    "    }\n",
    "    \n",
    "    if not pd.isnull(row['Manufacturer']):\n",
    "        entry[\"http://schema.org/publisher\"] = [{\n",
    "          \"@id\": \"http://data.gesis.org/softwarekg/software/{}/publisher/0\".format(idx),\n",
    "          \"@type\": \"http://schema.org/Organization\",\n",
    "          \"http://schema.org/name\": row['Manufacturer']\n",
    "        }]\n",
    "\n",
    "    #add_if_exists(entry, \"http://schema.org/publisher\",row['Manufacturer'])\n",
    "    add_if_exists(entry, \"http://schema.org/url\",row[\"URL\"])\n",
    "    add_if_exists(entry, \"http://data.gesis.org/softwarekg/freeAvailable\",row[\"Free\"])\n",
    "    add_if_exists(entry, \"http://data.gesis.org/softwarekg/sourceAvailable\",row[\"Source Available\"])\n",
    "    add_if_exists(entry, \"http://schema.org/license\",row['Licence'])\n",
    "    add_if_exists(entry, \"http://schema.org/sameAs\",[]) \n",
    "    add_sameAs_if_exists(entry[\"http://schema.org/sameAs\"], row['SWO_ID'])\n",
    "    add_sameAs_if_exists(entry[\"http://schema.org/sameAs\"], row['Wikidata'])\n",
    "    add_sameAs_if_exists(entry[\"http://schema.org/sameAs\"], row['Wikipedia'])\n",
    "    add_sameAs_if_exists(entry[\"http://schema.org/sameAs\"], row['DBpedia'])    \n",
    "    \n",
    "    software_list.append(entry)"
   ]
  },
  {
   "cell_type": "markdown",
   "metadata": {},
   "source": [
    "Actually inserting the new software nodes into the graph:"
   ]
  },
  {
   "cell_type": "code",
   "execution_count": null,
   "metadata": {},
   "outputs": [],
   "source": [
    "kg['@graph'].extend(software_list)"
   ]
  },
  {
   "cell_type": "code",
   "execution_count": null,
   "metadata": {},
   "outputs": [],
   "source": [
    "with open(\"data/software_kg_production.json\",'w') as kgf:\n",
    "    json.dump(kg, kgf, indent=2) "
   ]
  }
 ],
 "metadata": {
  "file_extension": ".py",
  "kernelspec": {
   "display_name": "Python 3",
   "language": "python",
   "name": "python3"
  },
  "language_info": {
   "codemirror_mode": {
    "name": "ipython",
    "version": 3
   },
   "file_extension": ".py",
   "mimetype": "text/x-python",
   "name": "python",
   "nbconvert_exporter": "python",
   "pygments_lexer": "ipython3",
   "version": "3.7.3"
  },
  "mimetype": "text/x-python",
  "name": "python",
  "npconvert_exporter": "python",
  "pygments_lexer": "ipython3",
  "version": 3
 },
 "nbformat": 4,
 "nbformat_minor": 2
}
