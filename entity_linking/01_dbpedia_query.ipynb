{
 "cells": [
  {
   "cell_type": "markdown",
   "metadata": {},
   "source": [
    "# DBpedia Query for Entity Linking\n",
    "\n",
    "To perform entity linking based on DBpedia we first need to query all software from DBpedia.\n",
    "\n",
    "We use the SPARQLWrapper python package to query DBpedia."
   ]
  },
  {
   "cell_type": "code",
   "execution_count": null,
   "metadata": {},
   "outputs": [],
   "source": [
    "import math\n",
    "from SPARQLWrapper import SPARQLWrapper, JSON"
   ]
  },
  {
   "cell_type": "markdown",
   "metadata": {},
   "source": [
    "First we query how many lines we have to download in total."
   ]
  },
  {
   "cell_type": "code",
   "execution_count": null,
   "metadata": {},
   "outputs": [],
   "source": [
    "sparql = SPARQLWrapper(\"http://dbpedia.org/sparql\")\n",
    "sparql.setQuery(\"\"\"\n",
    "    select count(?s) where { {\n",
    "    ?s rdf:type dbo:Software.\n",
    "    FILTER NOT EXISTS {?s rdf:type dbo:VideoGame}\n",
    "    OPTIONAL {?red dbo:wikiPageRedirects ?s. OPTIONAL {?red rdfs:label ?red_name.} }\n",
    "    OPTIONAL {?s rdfs:label ?l. FILTER (LANG(?l) = 'de' or LANG(?l) = 'fr' or LANG(?l) = 'es') .}\n",
    "    ?s rdfs:label ?u. FILTER (LANG(?u) = 'en').\n",
    "    OPTIONAL {?s foaf:name ?n.}\n",
    "    OPTIONAL {?wiki_dis dbo:wikiPageDisambiguates ?s. ?wiki_dis rdfs:label ?w_l. FILTER ( LANG( ?w_l) ='en').}\n",
    "    OPTIONAL {?s dbo:developer ?d. OPTIONAL {?d foaf:name ?d_foaf_name.} OPTIONAL {?d rdfs:label ?d_label. FILTER(LANG(?d_label) = 'en').} OPTIONAL {?d dbp:name ?d_dbp_name.} OPTIONAL {?d dbo:wikiPageRedirects ?d_ori. ?d_ori rdfs:label ?d_label_ori. FILTER (LANG(?d_label_ori)='en')} } \n",
    "    } UNION {\n",
    "    ?s rdf:type dbo:ProgrammingLanguage. \n",
    "    ?s rdfs:label ?u. \n",
    "    FILTER(LANG(?u)='en')\n",
    "    }\n",
    "    }\n",
    "\"\"\")\n",
    "sparql.setReturnFormat(JSON)\n",
    "results = sparql.query().convert()\n",
    "\n",
    "for result in results[\"results\"][\"bindings\"]:\n",
    "    result_count = int(result['callret-0']['value'])\n",
    "    print(\"In total we want to query {} rows\".format(result_count))"
   ]
  },
  {
   "cell_type": "markdown",
   "metadata": {},
   "source": [
    "Now we can start loading the lines chunk by chunk up to the allowed size of 10000. "
   ]
  },
  {
   "cell_type": "code",
   "execution_count": null,
   "metadata": {},
   "outputs": [],
   "source": [
    "result_list = []\n",
    "chunk_size = 10000\n",
    "chunks = math.ceil(result_count/chunk_size)\n",
    "for chunk in range(chunks):\n",
    "    print(\"Working on chunk {}\".format(chunk))\n",
    "    sparql.setQuery(\"\"\"\n",
    "        select distinct ?u ?l ?n ?red_name ?w_l ?s ?d ?d_foaf_name ?d_label ?d_dbp_name ?d_label_ori where { {\n",
    "        ?s rdf:type dbo:Software.\n",
    "        FILTER NOT EXISTS {?s rdf:type dbo:VideoGame}\n",
    "        OPTIONAL {?red dbo:wikiPageRedirects ?s. OPTIONAL {?red rdfs:label ?red_name.} }\n",
    "        OPTIONAL {?s rdfs:label ?l. FILTER (LANG(?l) = 'de' or LANG(?l) = 'fr' or LANG(?l) = 'es') .}\n",
    "        ?s rdfs:label ?u. FILTER (LANG(?u) = 'en').\n",
    "        OPTIONAL {?s foaf:name ?n.}\n",
    "        OPTIONAL {?wiki_dis dbo:wikiPageDisambiguates ?s. ?wiki_dis rdfs:label ?w_l. FILTER ( LANG( ?w_l) ='en').}\n",
    "        OPTIONAL {?s dbo:developer ?d. OPTIONAL {?d foaf:name ?d_foaf_name.} OPTIONAL {?d rdfs:label ?d_label. FILTER(LANG(?d_label) = 'en').} OPTIONAL {?d dbp:name ?d_dbp_name.} OPTIONAL {?d dbo:wikiPageRedirects ?d_ori. ?d_ori rdfs:label ?d_label_ori. FILTER (LANG(?d_label_ori)='en')} } \n",
    "        } UNION {\n",
    "        ?s rdf:type dbo:ProgrammingLanguage. \n",
    "        ?s rdfs:label ?u. \n",
    "        FILTER(LANG(?u)='en')\n",
    "        }\n",
    "        } LIMIT %d OFFSET %d\n",
    "    \"\"\" % (chunk_size, chunk*chunk_size))\n",
    "    sparql.setReturnFormat(JSON)\n",
    "    results = sparql.query().convert()\n",
    "\n",
    "    result_list.extend(results[\"results\"][\"bindings\"])"
   ]
  },
  {
   "cell_type": "markdown",
   "metadata": {},
   "source": [
    "Next we get the data we are actually interested in from all data we queried."
   ]
  },
  {
   "cell_type": "code",
   "execution_count": null,
   "metadata": {},
   "outputs": [],
   "source": [
    "result_transformed = []\n",
    "\n",
    "def get_if_exists(key, d, rm=None):\n",
    "    if key in d:\n",
    "        if rm:\n",
    "            value = d[key]['value']\n",
    "            for term in rm:\n",
    "                value = value.replace(term, '')\n",
    "            return value\n",
    "        else:\n",
    "            return d[key]['value']\n",
    "    else:\n",
    "        return None\n",
    "    \n",
    "for res in result_list:\n",
    "    result_transformed.append({\n",
    "        'unique': get_if_exists('u', res, rm = [' (software)', ' (programming language)']),\n",
    "        'label_1': get_if_exists('l', res),\n",
    "        'label_alt': get_if_exists('n', res),\n",
    "        'label_redirect': get_if_exists('red_name', res),\n",
    "        'label_wiki_dis': get_if_exists('w_l', res, rm = [' (disambiguation)']),\n",
    "        'uri': res['s']['value'],\n",
    "        'developer_uri': get_if_exists('d', res),\n",
    "        'developer_label_alt': get_if_exists('d_foaf_name', res), \n",
    "        'developer_label_1': get_if_exists('d_label', res),\n",
    "        'developer_label_normal': get_if_exists('d_dbp_name', res),\n",
    "        'developer_original_label': get_if_exists('d_label_ori', res)\n",
    "    })"
   ]
  },
  {
   "cell_type": "code",
   "execution_count": null,
   "metadata": {},
   "outputs": [],
   "source": [
    "for x in result_transformed[1:10]:\n",
    "    print(x)"
   ]
  },
  {
   "cell_type": "markdown",
   "metadata": {},
   "source": [
    "Now we transform the data in a long format to easily test combinations of publisher+software name. "
   ]
  },
  {
   "cell_type": "code",
   "execution_count": null,
   "metadata": {},
   "outputs": [],
   "source": [
    "import pandas as pd\n",
    "df = pd.DataFrame(result_transformed)\n",
    "print(len(df))\n",
    "df = df.drop_duplicates()\n",
    "print(len(df))\n",
    "df.to_csv(\"dbpedia_software.csv.gz\",compression='gzip')"
   ]
  },
  {
   "cell_type": "code",
   "execution_count": null,
   "metadata": {},
   "outputs": [],
   "source": [
    "dfm = pd.melt(df, value_vars=['developer_label_1','developer_label_alt','developer_label_normal','developer_original_label'], id_vars=['label_1', 'label_alt', 'label_redirect', 'label_wiki_dis','developer_uri','unique', 'uri'], value_name='developer', var_name='dsource')\n",
    "dfm2 = pd.melt(dfm, id_vars=['developer_uri','unique', 'uri', 'dsource', 'developer'], value_name='label', var_name='source')\n",
    "dfm3 = dfm2.drop_duplicates()\n",
    "dfm3.to_csv('dbpedia_software_long.csv.gz', compression='gzip')"
   ]
  }
 ],
 "metadata": {
  "kernelspec": {
   "display_name": "Python 3",
   "language": "python",
   "name": "python3"
  },
  "language_info": {
   "codemirror_mode": {
    "name": "ipython",
    "version": 3
   },
   "file_extension": ".py",
   "mimetype": "text/x-python",
   "name": "python",
   "nbconvert_exporter": "python",
   "pygments_lexer": "ipython3",
   "version": "3.7.3"
  }
 },
 "nbformat": 4,
 "nbformat_minor": 2
}
