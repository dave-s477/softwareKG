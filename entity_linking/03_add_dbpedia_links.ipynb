{
 "cells": [
  {
   "cell_type": "markdown",
   "metadata": {},
   "source": [
    "# Add DBpedia Links\n",
    "\n",
    "Add DBpedia links to software in the table of additional information. \n",
    "Because we qeury DBpedia automatically this information does not need to be gathered by hand but can be inserted automatically which we do here."
   ]
  },
  {
   "cell_type": "code",
   "execution_count": null,
   "metadata": {},
   "outputs": [],
   "source": [
    "import pandas as pd\n",
    "dbpedia_names = pd.read_csv('dbpedia_software_long.csv.gz', compression='gzip')\n",
    "info_table = pd.read_csv('../data/software_reasoning_list_total_neu.csv')"
   ]
  },
  {
   "cell_type": "code",
   "execution_count": null,
   "metadata": {},
   "outputs": [],
   "source": [
    "new_column = []\n",
    "for s_name in info_table['linked_name']:\n",
    "    rows = dbpedia_names.loc[dbpedia_names['unique']==s_name]\n",
    "    rows = rows[['unique', 'uri']]\n",
    "    rows = rows.drop_duplicates()\n",
    "    if len(rows) > 1:\n",
    "        print(\"Too many entries for {}\".format(s_name))\n",
    "        new_column.append('')\n",
    "    elif len(rows) < 1:\n",
    "        new_column.append('')\n",
    "    else:\n",
    "        new_column.append(rows.iloc[0]['uri'])"
   ]
  },
  {
   "cell_type": "code",
   "execution_count": null,
   "metadata": {},
   "outputs": [],
   "source": [
    "info_table['DBpedia'] = new_column\n",
    "cols = info_table.columns.tolist()\n",
    "cols = cols[0:2] + cols[-1:] + cols[2:-1]\n",
    "info_table_2 = info_table[cols]\n",
    "\n",
    "info_table_2.to_csv(\"software_reasoning_final_production_model.csv.gz\", compression=\"gzip\")"
   ]
  }
 ],
 "metadata": {
  "kernelspec": {
   "display_name": "Python 3",
   "language": "python",
   "name": "python3"
  },
  "language_info": {
   "codemirror_mode": {
    "name": "ipython",
    "version": 3
   },
   "file_extension": ".py",
   "mimetype": "text/x-python",
   "name": "python",
   "nbconvert_exporter": "python",
   "pygments_lexer": "ipython3",
   "version": "3.7.3"
  }
 },
 "nbformat": 4,
 "nbformat_minor": 2
}
