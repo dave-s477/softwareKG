{
 "nbformat": 4,
 "nbformat_minor": 2,
 "metadata": {
  "language_info": {
   "name": "python",
   "codemirror_mode": {
    "name": "ipython",
    "version": 3
   }
  },
  "orig_nbformat": 2,
  "file_extension": ".py",
  "mimetype": "text/x-python",
  "name": "python",
  "npconvert_exporter": "python",
  "pygments_lexer": "ipython3",
  "version": 3
 },
 "cells": [
  {
   "cell_type": "markdown",
   "metadata": {},
   "source": [
    "# Silver Standard Correction\n",
    "\n",
    "When exporting the silver standard data some labeling irregularities were inserted. Those can easily be fixed automatically:"
   ]
  },
  {
   "cell_type": "code",
   "execution_count": null,
   "metadata": {},
   "outputs": [],
   "source": [
    "silver_standard_data = '../data/data/pos_silver_samples_cor_data.txt'\n",
    "silver_standard_labels = '../data/pos_silver_samples_cor_labels.txt'\n",
    "silver_standard_labels_cor = '../data/pos_silver_samples_corrected_labels.txt'\n",
    "    \n",
    "error_count = 0\n",
    "with open(silver_standard_data, 'r') as data_file, open(silver_standard_labels, 'r') as labels_file, open(silver_standard_labels_cor, 'w') as labels_file_cor:\n",
    "    data_line = data_file.readline()\n",
    "    labels_line = labels_file.readline()\n",
    "    current_candidate = ''\n",
    "    counter = 0\n",
    "    while data_line and labels_line:\n",
    "        counter += 1\n",
    "        output_labels = ''\n",
    "        tokens = data_line.split()\n",
    "        labels = labels_line.split()\n",
    "        token = tokens.pop(0)\n",
    "        annotation = labels.pop(0)\n",
    "        i_allowed_to_occur = False\n",
    "        print_flag = False\n",
    "        while token and annotation:\n",
    "            if i_allowed_to_occur:\n",
    "                if annotation == 'O':\n",
    "                    i_allowed_to_occur = False\n",
    "                    output_labels += ' O'\n",
    "                elif annotation == 'B-software':\n",
    "                    i_allowed_to_occur = True\n",
    "                    output_labels += ' B-software'\n",
    "                elif annotation == 'I-software':\n",
    "                    i_allowed_to_occur = True\n",
    "                    output_labels += ' I-software'\n",
    "            else:\n",
    "                if annotation == 'O':\n",
    "                    i_allowed_to_occur = False\n",
    "                    output_labels += ' O'\n",
    "                elif annotation == 'B-software':\n",
    "                    i_allowed_to_occur = True\n",
    "                    output_labels += ' B-software'\n",
    "                elif annotation == 'I-software':\n",
    "                    i_allowed_to_occur = False\n",
    "                    output_labels += ' O'\n",
    "                    print_flag = True\n",
    "            if len(tokens) > 0 and len(labels) > 0:\n",
    "                token = tokens.pop(0)\n",
    "                annotation = labels.pop(0)\n",
    "            else:\n",
    "                token = None\n",
    "                annotation = None\n",
    "        output_labels += '\\n'\n",
    "        if print_flag:\n",
    "            print(\"Replace\")\n",
    "            print(labels_line)\n",
    "            print(output_labels)\n",
    "            print(len(data_line.split()))\n",
    "            print(len(output_labels.split()))\n",
    "                \n",
    "        data_line = data_file.readline()\n",
    "        labels_line = labels_file.readline()\n",
    "        labels_file_cor.write(output_labels)"
   ]
  }
 ]
}